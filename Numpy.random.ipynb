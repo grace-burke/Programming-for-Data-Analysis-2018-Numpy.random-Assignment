{
 "cells": [
  {
   "cell_type": "markdown",
   "metadata": {},
   "source": [
    "# Numpy.random Package"
   ]
  },
  {
   "cell_type": "code",
   "execution_count": 2,
   "metadata": {},
   "outputs": [],
   "source": [
    "# Import matplotlib.\n",
    "import matplotlib.pyplot as plt\n",
    "\n",
    "# Make matplotlib show interactive plots in the notebook.\n",
    "%matplotlib inline\n",
    "\n",
    "# Import numpy.\n",
    "import numpy as np"
   ]
  },
  {
   "cell_type": "markdown",
   "metadata": {},
   "source": [
    "## Purpose of Package\n",
    "- \n",
    "- "
   ]
  },
  {
   "cell_type": "code",
   "execution_count": null,
   "metadata": {},
   "outputs": [],
   "source": []
  },
  {
   "cell_type": "markdown",
   "metadata": {},
   "source": [
    "## Simple Random Data\n",
    "- Used to produce random numbers, lists or arrays."
   ]
  },
  {
   "cell_type": "markdown",
   "metadata": {},
   "source": [
    "#### Numpy.random.rand\n",
    "- Acept as an input one or more integers, these are the dimensions of the output.\n",
    "- If one integer input is provided the function returns a list of that many random numbers between 0 (inclusive) and 1 (exclusive).\n",
    "- Numbers are selected from a uniform probability distribution, so all numbers are equally as likely to come up."
   ]
  },
  {
   "cell_type": "code",
   "execution_count": null,
   "metadata": {},
   "outputs": [],
   "source": [
    "np.random.rand(7)"
   ]
  },
  {
   "cell_type": "markdown",
   "metadata": {},
   "source": [
    "- If more than one integer input is provided, these are used as the dimensions of the output array."
   ]
  },
  {
   "cell_type": "code",
   "execution_count": null,
   "metadata": {},
   "outputs": [],
   "source": [
    "np.random.rand(5,3)"
   ]
  },
  {
   "cell_type": "markdown",
   "metadata": {},
   "source": [
    "- By using this to produce many random numbers and plotting the results in a histogram we can see that the numbers are in fact evenly distributed between 0 and 1."
   ]
  },
  {
   "cell_type": "code",
   "execution_count": null,
   "metadata": {},
   "outputs": [],
   "source": [
    "plt.hist(np.random.rand(10000))\n",
    "plt.show()"
   ]
  },
  {
   "cell_type": "markdown",
   "metadata": {},
   "source": [
    "#### Numpy.random.randn\n",
    "- Operates similarly to numpy.random.rand but populates results from a normal probability distribution."
   ]
  },
  {
   "cell_type": "code",
   "execution_count": null,
   "metadata": {},
   "outputs": [],
   "source": [
    "plt.hist(np.random.randn(10000))\n",
    "plt.show"
   ]
  },
  {
   "cell_type": "markdown",
   "metadata": {},
   "source": [
    "#### Numpy.random.randint\n",
    "- Accepts as inputs a floor value, ceiling value and parameters for the output array.\n",
    "- Return an integer or array of integers between the floor value and the ceiling value.\n",
    "- If no ceiling value is included the values range from zero to the floor provided."
   ]
  },
  {
   "cell_type": "code",
   "execution_count": null,
   "metadata": {},
   "outputs": [],
   "source": [
    "np.random.randint(2,high=9,size=(4,3))"
   ]
  },
  {
   "cell_type": "markdown",
   "metadata": {},
   "source": [
    "#### Numpy.random.choice\n",
    "- Accepts as an input an integer or array to select from, the size of the array to be returned, and an array of probabilities for each element.\n",
    "- If an integer is provided, the output will be selected from the list from 0 to that integer.\n",
    "- Returns an array of the specified size selected from the list or array provided."
   ]
  },
  {
   "cell_type": "code",
   "execution_count": null,
   "metadata": {},
   "outputs": [],
   "source": [
    "np.random.choice(9,4)"
   ]
  },
  {
   "cell_type": "markdown",
   "metadata": {},
   "source": [
    "#### Numpy.random.bytes\n",
    "- Accepts an integer as input.\n",
    "- Returns a byte of that size."
   ]
  },
  {
   "cell_type": "code",
   "execution_count": null,
   "metadata": {},
   "outputs": [],
   "source": [
    "np.random.bytes(7)"
   ]
  },
  {
   "cell_type": "markdown",
   "metadata": {},
   "source": [
    "## Permutations"
   ]
  },
  {
   "cell_type": "markdown",
   "metadata": {},
   "source": [
    "####  Shuffle\n",
    "- Accepts as an input an array or list.\n",
    "- Shuffles the order of the elements of the array or list.\n",
    "- This function does not return anything, but the order of the elements in the array are changed permanently."
   ]
  },
  {
   "cell_type": "code",
   "execution_count": null,
   "metadata": {},
   "outputs": [],
   "source": [
    "arr1 = np.random.rand(6)\n",
    "print(arr1)\n",
    "\n",
    "np.random.shuffle(arr1)\n",
    "print(arr1)"
   ]
  },
  {
   "cell_type": "markdown",
   "metadata": {},
   "source": [
    "- If the array is multidimensional the elements are shuffled on the first dimension only, so the content of the sub-arrays will stay the same but the order of the sub-arrays will be shuffled.\n",
    "- For a two-dimensional array this means that the rows of the array will change order but the content of each row will remain the same."
   ]
  },
  {
   "cell_type": "code",
   "execution_count": null,
   "metadata": {},
   "outputs": [],
   "source": [
    "arr2 = np.random.rand(4,2)\n",
    "print(arr2)\n",
    "\n",
    "np.random.shuffle(arr2)\n",
    "print(arr2)"
   ]
  },
  {
   "cell_type": "markdown",
   "metadata": {},
   "source": [
    "#### Permutation\n",
    "- Accepts as an input an integer or array, x.\n",
    "- Returns an array with x elements, 0 to (x - 1), in a shuffled order."
   ]
  },
  {
   "cell_type": "code",
   "execution_count": null,
   "metadata": {},
   "outputs": [],
   "source": [
    "print(np.random.permutation(8))"
   ]
  },
  {
   "cell_type": "markdown",
   "metadata": {},
   "source": [
    "- If the input is multidimensional, the elements will be shuffled in the first dimension only, as with the shuffle function above.\n",
    "- This function differs from the shuffle function in that it returns the newly shuffled array and does not alter the original array."
   ]
  },
  {
   "cell_type": "code",
   "execution_count": null,
   "metadata": {},
   "outputs": [],
   "source": [
    "arr3 = np.random.rand(4,3)\n",
    "print(arr3)\n",
    "print()\n",
    "print(np.random.permutation(arr3))\n",
    "print()\n",
    "print(arr3)"
   ]
  },
  {
   "cell_type": "markdown",
   "metadata": {},
   "source": [
    "## Distributions"
   ]
  },
  {
   "cell_type": "markdown",
   "metadata": {},
   "source": [
    "#### 1.  Uniform Distribution\n",
    "- This function selects random numbers from a uniform distribution.\n",
    "- In a uniformly distributed dataset, each number has an equal chance of occurring.\n",
    "- The function accepts as inputs a floor value, a ceiling value and the size of the array to be returned.\n",
    "- The output of the function is an array of the specified size containing values from the uniform distribution described."
   ]
  },
  {
   "cell_type": "code",
   "execution_count": 7,
   "metadata": {
    "scrolled": true
   },
   "outputs": [
    {
     "data": {
      "text/plain": [
       "<function matplotlib.pyplot.show(*args, **kw)>"
      ]
     },
     "execution_count": 7,
     "metadata": {},
     "output_type": "execute_result"
    },
    {
     "data": {
      "image/png": "[encoded data removed]",
      "text/plain": [
       "<Figure size 432x288 with 1 Axes>"
      ]
     },
     "metadata": {
      "needs_background": "light"
     },
     "output_type": "display_data"
    }
   ],
   "source": [
    "plt.hist(np.random.uniform(3, 13, 10000))\n",
    "plt.show"
   ]
  },
  {
   "cell_type": "markdown",
   "metadata": {},
   "source": [
    "- This distribution is used when there is no most probably outcome, for example when rolling a die."
   ]
  },
  {
   "cell_type": "markdown",
   "metadata": {},
   "source": [
    "#### 2. Numpy.random.normal\n",
    "- This function selects random numbers from a normal distribution.\n",
    "- A normal distribution has mean mu and standard deviation sigma. The mean is the centre of the distribution and the standard deviation is the distance from the mean in which the data is most heavily concentrated.\n",
    "- The mean value has the highest probability of occurring, and the probability decreases with distance from the mean.\n",
    "- The function accepts as inputs mu, sigma, and the size of the array to be returned.\n",
    "- The output of the function is an array of the specified size containing values from the normal distribution described."
   ]
  },
  {
   "cell_type": "code",
   "execution_count": 6,
   "metadata": {},
   "outputs": [
    {
     "data": {
      "text/plain": [
       "<function matplotlib.pyplot.show(*args, **kw)>"
      ]
     },
     "execution_count": 6,
     "metadata": {},
     "output_type": "execute_result"
    },
    {
     "data": {
      "image/png": "[encoded data removed]",
      "text/plain": [
       "<Figure size 432x288 with 1 Axes>"
      ]
     },
     "metadata": {
      "needs_background": "light"
     },
     "output_type": "display_data"
    }
   ],
   "source": [
    "plt.hist(np.random.normal(5, 2, 10000))\n",
    "plt.show"
   ]
  },
  {
   "cell_type": "markdown",
   "metadata": {},
   "source": [
    "- This distribution is also known as a bell curve.\n",
    "- The Central Limit Theorem (CLT) states that if you add a large number of random variables, the distribution of the sum will be approximately normal under certain conditions.\n",
    "- It has a wide variety of uses. It is often used to describe random variables whose distributions are not known, and often occurs in nature."
   ]
  },
  {
   "cell_type": "markdown",
   "metadata": {},
   "source": [
    "#### 3. Numpy.random.exponential\n",
    "- This function selects random numbers from an exponential distribution.\n",
    "- A normal distribution has scale beta. Beta is inversely proportional to the rate parameter alpha which defines the shape of the curve.\n",
    "- The function accepts as inputs an integer scale, and the size of the array to be returned.\n",
    "- The output of the function is an array of the specified size containing values from the exponential distribution described."
   ]
  },
  {
   "cell_type": "code",
   "execution_count": 9,
   "metadata": {},
   "outputs": [
    {
     "data": {
      "text/plain": [
       "<function matplotlib.pyplot.show(*args, **kw)>"
      ]
     },
     "execution_count": 9,
     "metadata": {},
     "output_type": "execute_result"
    },
    {
     "data": {
      "image/png": "[encoded data removed]",
      "text/plain": [
       "<Figure size 432x288 with 1 Axes>"
      ]
     },
     "metadata": {
      "needs_background": "light"
     },
     "output_type": "display_data"
    }
   ],
   "source": [
    "plt.hist(np.random.exponential(2, 10000))\n",
    "plt.show"
   ]
  },
  {
   "cell_type": "markdown",
   "metadata": {},
   "source": [
    "- This distribution is used where lower values occur very frequently with the probability tailing off at higher values.\n",
    "- The exponential probability distribution is often used to model time elapsed between events.\n",
    "- Another example of an exponential distribution would be average earnings of a country."
   ]
  },
  {
   "cell_type": "markdown",
   "metadata": {},
   "source": [
    "#### 4. Numpy.random.gamma\n",
    "- This function selects random numbers from a gamma distribution.\n",
    "- A gamma distribution has shape k and scale theta.\n",
    "- The function accepts as inputs k, theta, and the size of the array to be returned.\n",
    "- The output of the function is an array of the specified size containing values from the gamma distribution described."
   ]
  },
  {
   "cell_type": "code",
   "execution_count": 13,
   "metadata": {},
   "outputs": [
    {
     "data": {
      "text/plain": [
       "<function matplotlib.pyplot.show(*args, **kw)>"
      ]
     },
     "execution_count": 13,
     "metadata": {},
     "output_type": "execute_result"
    },
    {
     "data": {
      "image/png": "[encoded data removed]",
      "text/plain": [
       "<Figure size 432x288 with 1 Axes>"
      ]
     },
     "metadata": {
      "needs_background": "light"
     },
     "output_type": "display_data"
    }
   ],
   "source": [
    "plt.hist(np.random.gamma(8,5,10000))\n",
    "plt.show"
   ]
  },
  {
   "cell_type": "markdown",
   "metadata": {},
   "source": [
    "- This is an important distribution because of its relationship to to exponential and normal distributions.\n",
    "- It can be shown that Gamma(1,alpha) = Exponential(alpha)."
   ]
  },
  {
   "cell_type": "markdown",
   "metadata": {},
   "source": [
    "#### 5. Numpy.random.laplace\n",
    "- This function selects random numbers from a Laplace distribution.\n",
    "- A Laplace distribution has position mu, and scale alpha.\n",
    "- The Laplace distribution is essential two exponential distributions mirrored about mu.\n",
    "- The function accepts as inputs mu, alpha, and the size of the array to be returned.\n",
    "- The output of the function is an array of the specified size containing values from the Laplace distribution described."
   ]
  },
  {
   "cell_type": "code",
   "execution_count": 18,
   "metadata": {},
   "outputs": [
    {
     "data": {
      "text/plain": [
       "<function matplotlib.pyplot.show(*args, **kw)>"
      ]
     },
     "execution_count": 18,
     "metadata": {},
     "output_type": "execute_result"
    },
    {
     "data": {
      "image/png": "[encoded data removed]",
      "text/plain": [
       "<Figure size 432x288 with 1 Axes>"
      ]
     },
     "metadata": {
      "needs_background": "light"
     },
     "output_type": "display_data"
    }
   ],
   "source": [
    "plt.hist(np.random.laplace(1,0.5,10000))\n",
    "plt.show"
   ]
  },
  {
   "cell_type": "markdown",
   "metadata": {},
   "source": [
    "- For many problems in economics and health sciences, this distribution seems to model the data better than the standard Gaussian distribution."
   ]
  },
  {
   "cell_type": "markdown",
   "metadata": {},
   "source": [
    "## Seeds\n",
    "- \n",
    "- "
   ]
  },
  {
   "cell_type": "code",
   "execution_count": null,
   "metadata": {},
   "outputs": [],
   "source": []
  },
  {
   "cell_type": "markdown",
   "metadata": {},
   "source": [
    "## References\n",
    "- NumPy developers. Numpy.\n",
    "  https://docs.scipy.org/doc/numpy/reference/routines.random.html\n",
    "- Wikipedia. Normal distribution. https://en.wikipedia.org/wiki/Normal_distribution\n",
    "- Open Science Notebook. How to randomly shuffle an array in python using numpy. https://www.science-emergence.com/Articles/How-to-randomly-shuffle-an-array-in-python-using-numpy/\n",
    "- Introduction to probability, statistics and random processes. https://www.probabilitycourse.com/chapter4/4_0_0_intro.php"
   ]
  }
 ],
 "metadata": {
  "kernelspec": {
   "display_name": "Python 3",
   "language": "python",
   "name": "python3"
  },
  "language_info": {
   "codemirror_mode": {
    "name": "ipython",
    "version": 3
   },
   "file_extension": ".py",
   "mimetype": "text/x-python",
   "name": "python",
   "nbconvert_exporter": "python",
   "pygments_lexer": "ipython3",
   "version": "3.7.0"
  }
 },
 "nbformat": 4,
 "nbformat_minor": 2
}
